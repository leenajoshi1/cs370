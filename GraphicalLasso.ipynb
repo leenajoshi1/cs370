{
  "cells": [
    {
      "cell_type": "markdown",
      "id": "dd4a89d0",
      "metadata": {
        "id": "dd4a89d0"
      },
      "source": [
        "## 1) Setup"
      ]
    },
    {
      "cell_type": "code",
      "execution_count": null,
      "id": "40ad525a",
      "metadata": {
        "id": "40ad525a"
      },
      "outputs": [],
      "source": [
        "\n",
        "import os, numpy as np, pandas as pd, matplotlib.pyplot as plt\n",
        "from sklearn.model_selection import KFold\n",
        "from sklearn.preprocessing import StandardScaler\n",
        "from sklearn.linear_model import RidgeCV, Ridge, LinearRegression\n",
        "from sklearn.multioutput import MultiOutputRegressor\n",
        "from sklearn.decomposition import PCA\n",
        "from sklearn.metrics import mean_absolute_error, mean_squared_error\n",
        "\n",
        "np.set_printoptions(suppress=True, linewidth=140)\n",
        "pd.set_option(\"display.width\", 200)\n",
        "pd.set_option(\"display.max_columns\", 120)\n",
        "\n",
        "RANDOM_SEED = 1337 #fixed seed for deterministic splits\n",
        "N_SPLITS = 5 #using a 5-fold cross validation\n",
        "USE_PCA = False\n"
      ]
    },
    {
      "cell_type": "markdown",
      "id": "1d0bfcb5",
      "metadata": {
        "id": "1d0bfcb5"
      },
      "source": [
        "## 2) Paths and file upload"
      ]
    },
    {
      "cell_type": "code",
      "execution_count": null,
      "id": "fc04989c",
      "metadata": {
        "colab": {
          "base_uri": "https://localhost:8080/",
          "height": 176
        },
        "id": "fc04989c",
        "outputId": "ddaf453b-72dc-4209-b118-cc3b3ba1c00c"
      },
      "outputs": [
        {
          "output_type": "stream",
          "name": "stdout",
          "text": [
            "Data dir: /content\n",
            "Outputs → /content/week3_outputs\n",
            "Upload RNA and TE CSVs\n"
          ]
        },
        {
          "output_type": "display_data",
          "data": {
            "text/plain": [
              "<IPython.core.display.HTML object>"
            ],
            "text/html": [
              "\n",
              "     <input type=\"file\" id=\"files-ee509b15-fe24-4f0c-b9f4-415c2ae4ee78\" name=\"files[]\" multiple disabled\n",
              "        style=\"border:none\" />\n",
              "     <output id=\"result-ee509b15-fe24-4f0c-b9f4-415c2ae4ee78\">\n",
              "      Upload widget is only available when the cell has been executed in the\n",
              "      current browser session. Please rerun this cell to enable.\n",
              "      </output>\n",
              "      <script>// Copyright 2017 Google LLC\n",
              "//\n",
              "// Licensed under the Apache License, Version 2.0 (the \"License\");\n",
              "// you may not use this file except in compliance with the License.\n",
              "// You may obtain a copy of the License at\n",
              "//\n",
              "//      http://www.apache.org/licenses/LICENSE-2.0\n",
              "//\n",
              "// Unless required by applicable law or agreed to in writing, software\n",
              "// distributed under the License is distributed on an \"AS IS\" BASIS,\n",
              "// WITHOUT WARRANTIES OR CONDITIONS OF ANY KIND, either express or implied.\n",
              "// See the License for the specific language governing permissions and\n",
              "// limitations under the License.\n",
              "\n",
              "/**\n",
              " * @fileoverview Helpers for google.colab Python module.\n",
              " */\n",
              "(function(scope) {\n",
              "function span(text, styleAttributes = {}) {\n",
              "  const element = document.createElement('span');\n",
              "  element.textContent = text;\n",
              "  for (const key of Object.keys(styleAttributes)) {\n",
              "    element.style[key] = styleAttributes[key];\n",
              "  }\n",
              "  return element;\n",
              "}\n",
              "\n",
              "// Max number of bytes which will be uploaded at a time.\n",
              "const MAX_PAYLOAD_SIZE = 100 * 1024;\n",
              "\n",
              "function _uploadFiles(inputId, outputId) {\n",
              "  const steps = uploadFilesStep(inputId, outputId);\n",
              "  const outputElement = document.getElementById(outputId);\n",
              "  // Cache steps on the outputElement to make it available for the next call\n",
              "  // to uploadFilesContinue from Python.\n",
              "  outputElement.steps = steps;\n",
              "\n",
              "  return _uploadFilesContinue(outputId);\n",
              "}\n",
              "\n",
              "// This is roughly an async generator (not supported in the browser yet),\n",
              "// where there are multiple asynchronous steps and the Python side is going\n",
              "// to poll for completion of each step.\n",
              "// This uses a Promise to block the python side on completion of each step,\n",
              "// then passes the result of the previous step as the input to the next step.\n",
              "function _uploadFilesContinue(outputId) {\n",
              "  const outputElement = document.getElementById(outputId);\n",
              "  const steps = outputElement.steps;\n",
              "\n",
              "  const next = steps.next(outputElement.lastPromiseValue);\n",
              "  return Promise.resolve(next.value.promise).then((value) => {\n",
              "    // Cache the last promise value to make it available to the next\n",
              "    // step of the generator.\n",
              "    outputElement.lastPromiseValue = value;\n",
              "    return next.value.response;\n",
              "  });\n",
              "}\n",
              "\n",
              "/**\n",
              " * Generator function which is called between each async step of the upload\n",
              " * process.\n",
              " * @param {string} inputId Element ID of the input file picker element.\n",
              " * @param {string} outputId Element ID of the output display.\n",
              " * @return {!Iterable<!Object>} Iterable of next steps.\n",
              " */\n",
              "function* uploadFilesStep(inputId, outputId) {\n",
              "  const inputElement = document.getElementById(inputId);\n",
              "  inputElement.disabled = false;\n",
              "\n",
              "  const outputElement = document.getElementById(outputId);\n",
              "  outputElement.innerHTML = '';\n",
              "\n",
              "  const pickedPromise = new Promise((resolve) => {\n",
              "    inputElement.addEventListener('change', (e) => {\n",
              "      resolve(e.target.files);\n",
              "    });\n",
              "  });\n",
              "\n",
              "  const cancel = document.createElement('button');\n",
              "  inputElement.parentElement.appendChild(cancel);\n",
              "  cancel.textContent = 'Cancel upload';\n",
              "  const cancelPromise = new Promise((resolve) => {\n",
              "    cancel.onclick = () => {\n",
              "      resolve(null);\n",
              "    };\n",
              "  });\n",
              "\n",
              "  // Wait for the user to pick the files.\n",
              "  const files = yield {\n",
              "    promise: Promise.race([pickedPromise, cancelPromise]),\n",
              "    response: {\n",
              "      action: 'starting',\n",
              "    }\n",
              "  };\n",
              "\n",
              "  cancel.remove();\n",
              "\n",
              "  // Disable the input element since further picks are not allowed.\n",
              "  inputElement.disabled = true;\n",
              "\n",
              "  if (!files) {\n",
              "    return {\n",
              "      response: {\n",
              "        action: 'complete',\n",
              "      }\n",
              "    };\n",
              "  }\n",
              "\n",
              "  for (const file of files) {\n",
              "    const li = document.createElement('li');\n",
              "    li.append(span(file.name, {fontWeight: 'bold'}));\n",
              "    li.append(span(\n",
              "        `(${file.type || 'n/a'}) - ${file.size} bytes, ` +\n",
              "        `last modified: ${\n",
              "            file.lastModifiedDate ? file.lastModifiedDate.toLocaleDateString() :\n",
              "                                    'n/a'} - `));\n",
              "    const percent = span('0% done');\n",
              "    li.appendChild(percent);\n",
              "\n",
              "    outputElement.appendChild(li);\n",
              "\n",
              "    const fileDataPromise = new Promise((resolve) => {\n",
              "      const reader = new FileReader();\n",
              "      reader.onload = (e) => {\n",
              "        resolve(e.target.result);\n",
              "      };\n",
              "      reader.readAsArrayBuffer(file);\n",
              "    });\n",
              "    // Wait for the data to be ready.\n",
              "    let fileData = yield {\n",
              "      promise: fileDataPromise,\n",
              "      response: {\n",
              "        action: 'continue',\n",
              "      }\n",
              "    };\n",
              "\n",
              "    // Use a chunked sending to avoid message size limits. See b/62115660.\n",
              "    let position = 0;\n",
              "    do {\n",
              "      const length = Math.min(fileData.byteLength - position, MAX_PAYLOAD_SIZE);\n",
              "      const chunk = new Uint8Array(fileData, position, length);\n",
              "      position += length;\n",
              "\n",
              "      const base64 = btoa(String.fromCharCode.apply(null, chunk));\n",
              "      yield {\n",
              "        response: {\n",
              "          action: 'append',\n",
              "          file: file.name,\n",
              "          data: base64,\n",
              "        },\n",
              "      };\n",
              "\n",
              "      let percentDone = fileData.byteLength === 0 ?\n",
              "          100 :\n",
              "          Math.round((position / fileData.byteLength) * 100);\n",
              "      percent.textContent = `${percentDone}% done`;\n",
              "\n",
              "    } while (position < fileData.byteLength);\n",
              "  }\n",
              "\n",
              "  // All done.\n",
              "  yield {\n",
              "    response: {\n",
              "      action: 'complete',\n",
              "    }\n",
              "  };\n",
              "}\n",
              "\n",
              "scope.google = scope.google || {};\n",
              "scope.google.colab = scope.google.colab || {};\n",
              "scope.google.colab._files = {\n",
              "  _uploadFiles,\n",
              "  _uploadFilesContinue,\n",
              "};\n",
              "})(self);\n",
              "</script> "
            ]
          },
          "metadata": {}
        },
        {
          "output_type": "stream",
          "name": "stdout",
          "text": [
            "Saving RNA_HEK293T.csv to RNA_HEK293T.csv\n",
            "Saving TE_HEK293T.csv to TE_HEK293T.csv\n",
            "Uploaded: ['RNA_HEK293T.csv', 'TE_HEK293T.csv']\n"
          ]
        }
      ],
      "source": [
        "DATA_DIR = \"/content\"\n",
        "PATH_RNA = f\"{DATA_DIR}/HEK293T_RNA_CLR_wide.csv\"\n",
        "PATH_TE  = f\"{DATA_DIR}/HEK293T_TE_CLR_wide.csv\"\n",
        "PATH_TX2GENE = f\"{DATA_DIR}/tx2gene.csv\"\n",
        "\n",
        "OUT_DIR = os.path.join(DATA_DIR, \"week3_outputs\")\n",
        "os.makedirs(OUT_DIR, exist_ok=True)\n",
        "\n",
        "print(\"Data dir:\", DATA_DIR)\n",
        "print(\"Outputs →\", OUT_DIR)\n",
        "\n",
        "try:\n",
        "    from google.colab import files\n",
        "    print(\"Upload RNA and TE CSVs\")\n",
        "    # upload files directly\n",
        "    uploaded = files.upload()\n",
        "    print(\"Uploaded:\", list(uploaded.keys()))\n",
        "except ImportError:\n",
        "    print(\"An error occurred during file upload:\")\n",
        "except Exception as e:\n",
        "    print(f\"An error occurred during file upload: {e}\")"
      ]
    },
    {
      "cell_type": "markdown",
      "id": "5f36ef67",
      "metadata": {
        "id": "5f36ef67"
      },
      "source": [
        "## 3) Helper functions for cleaning"
      ]
    },
    {
      "cell_type": "code",
      "execution_count": null,
      "id": "fcb2a87b",
      "metadata": {
        "id": "fcb2a87b"
      },
      "outputs": [],
      "source": [
        "def drop_index_like(df: pd.DataFrame) -> pd.DataFrame:\n",
        "    return df.drop(columns=[\"Unnamed: 0\"], errors=\"ignore\")\n",
        "\n",
        "def pick_id_col(cols) -> str:\n",
        "    for c in [\"gene\", \"transcript\", \"feature_id\", \"id\"]:\n",
        "        if c in cols: return c\n",
        "    return cols[0]\n",
        "\n",
        "def safe_pearsonr(a: np.ndarray, b: np.ndarray) -> float:\n",
        "    if np.std(a) == 0 or np.std(b) == 0:\n",
        "        return float(\"nan\")\n",
        "    r = np.corrcoef(a, b)[0,1]\n",
        "    return float(r) if np.isfinite(r) else float(\"nan\")\n",
        "\n",
        "def eval_per_gene(y_true: np.ndarray, y_pred: np.ndarray, ids) -> pd.DataFrame:\n",
        "    rows = []\n",
        "    for j, gid in enumerate(ids):\n",
        "        yt = y_true[:, j]; yp = y_pred[:, j]\n",
        "        r  = safe_pearsonr(yt, yp)\n",
        "        ss_res = np.sum((yt - yp)**2)\n",
        "        ss_tot = np.sum((yt - np.mean(yt))**2)\n",
        "        r2 = float(\"nan\") if ss_tot == 0 else 1.0 - (ss_res/ss_tot)\n",
        "        mae = mean_absolute_error(yt, yp)\n",
        "        rmse = mean_squared_error(yt, yp)\n",
        "        rows.append({\"id\": gid, \"pearson_r\": r, \"r2\": r2, \"mae\": mae, \"rmse\": rmse})\n",
        "    return pd.DataFrame(rows)\n",
        "\n",
        "def to_gene_symbols(df: pd.DataFrame, id_col: str, tx2gene: pd.DataFrame=None) -> pd.DataFrame:\n",
        "    if tx2gene is None or not set([\"transcript\",\"gene_symbol\"]).issubset(tx2gene.columns):\n",
        "        out = df.copy(); out[\"gene_symbol\"] = out[id_col].astype(str); return out\n",
        "    if id_col.lower() != \"transcript\":\n",
        "        out = df.copy(); out[\"gene_symbol\"] = out[id_col].astype(str); return out\n",
        "    out = df.merge(tx2gene[[\"transcript\",\"gene_symbol\"]], left_on=id_col, right_on=\"transcript\", how=\"left\")\n",
        "    out[\"gene_symbol\"] = out[\"gene_symbol\"].fillna(out[id_col].astype(str))\n",
        "    out = out.drop(columns=[\"transcript_y\"], errors=\"ignore\")\n",
        "    out = out.rename(columns={\"transcript_x\":\"transcript\"})\n",
        "    return out\n",
        "\n",
        "def rps_rpl_mask(symbols: pd.Series) -> pd.Series:\n",
        "    s = symbols.fillna(\"\").str.upper()\n",
        "    return s.str.startswith(\"RPS\") | s.str.startswith(\"RPL\")"
      ]
    },
    {
      "cell_type": "markdown",
      "id": "1d42d400",
      "metadata": {
        "id": "1d42d400"
      },
      "source": [
        "## 4) Load and align RNA/TE matrices"
      ]
    },
    {
      "cell_type": "code",
      "execution_count": null,
      "id": "72db17ab",
      "metadata": {
        "colab": {
          "base_uri": "https://localhost:8080/"
        },
        "id": "72db17ab",
        "outputId": "f7bc8c4c-e3a3-4557-8a5d-f3f334d8e93f"
      },
      "outputs": [
        {
          "output_type": "stream",
          "name": "stdout",
          "text": [
            "RNA shape: (8433, 99)\n",
            "TE  shape: (8433, 99)\n",
            "Samples: 98\n"
          ]
        }
      ],
      "source": [
        "rna = drop_index_like(pd.read_csv(f\"{DATA_DIR}/RNA_HEK293T.csv\"))\n",
        "te  = drop_index_like(pd.read_csv(f\"{DATA_DIR}/TE_HEK293T.csv\"))\n",
        "\n",
        "id_col_rna = pick_id_col(rna.columns.tolist())\n",
        "id_col_te  = pick_id_col(te.columns.tolist())\n",
        "\n",
        "sample_cols = [c for c in rna.columns if c != id_col_rna and c in te.columns]\n",
        "rna = rna[[id_col_rna] + sample_cols].copy()\n",
        "te  = te [[id_col_te ] + sample_cols].copy()\n",
        "\n",
        "common_ids = sorted(set(rna[id_col_rna]) & set(te[id_col_te]))\n",
        "rna = rna[rna[id_col_rna].isin(common_ids)].sort_values(id_col_rna).reset_index(drop=True)\n",
        "te  = te [te [id_col_te ].isin(common_ids)].sort_values(id_col_te ).reset_index(drop=True)\n",
        "\n",
        "rna = rna.rename(columns={id_col_rna: \"feature_id\"})\n",
        "te  = te .rename(columns={id_col_te:  \"feature_id\"})\n",
        "\n",
        "print(\"RNA shape:\", rna.shape)\n",
        "print(\"TE  shape:\", te.shape)\n",
        "print(\"Samples:\", len(sample_cols))"
      ]
    },
    {
      "cell_type": "markdown",
      "id": "86bbc7ef",
      "metadata": {
        "id": "86bbc7ef"
      },
      "source": [
        "## 5) Add gene symbols and build ML matrices"
      ]
    },
    {
      "cell_type": "code",
      "execution_count": null,
      "id": "8b39cf40",
      "metadata": {
        "colab": {
          "base_uri": "https://localhost:8080/"
        },
        "id": "8b39cf40",
        "outputId": "9d68e299-a034-446e-af8c-8283544c2d99"
      },
      "outputs": [
        {
          "output_type": "stream",
          "name": "stdout",
          "text": [
            "Matrix shapes — X: (98, 8433) Y: (98, 8433)\n"
          ]
        }
      ],
      "source": [
        "\n",
        "import pandas as pd, os\n",
        "\n",
        "tx2gene = None\n",
        "if os.path.exists(PATH_TX2GENE):\n",
        "    try:\n",
        "        tx2gene = pd.read_csv(PATH_TX2GENE)\n",
        "    except Exception as e:\n",
        "        print(\"Warning: could not read tx2gene.csv:\", e)\n",
        "\n",
        "rna_sym = to_gene_symbols(rna, \"feature_id\", tx2gene)\n",
        "te_sym  = to_gene_symbols(te,  \"feature_id\", tx2gene)\n",
        "\n",
        "genes = rna[\"feature_id\"].tolist()\n",
        "gene_symbols = rna_sym[\"gene_symbol\"].tolist()\n",
        "\n",
        "X = rna[sample_cols].T.values  # RNA\n",
        "Y = te [sample_cols].T.values  # TE\n",
        "\n",
        "print(\"Matrix shapes — X:\", X.shape, \"Y:\", Y.shape)\n"
      ]
    },
    {
      "cell_type": "markdown",
      "source": [
        "Lasso"
      ],
      "metadata": {
        "id": "33RPDJMjXb9I"
      },
      "id": "33RPDJMjXb9I"
    },
    {
      "cell_type": "code",
      "source": [
        "from sklearn.decomposition import PCA\n",
        "\n",
        "# Masks to identity ribosomal clusters, converting to uppercase\n",
        "sym = pd.Series(gene_symbols).str.upper()\n",
        "mask_rps = sym.str.startswith(\"RPS\")\n",
        "mask_rpl = sym.str.startswith(\"RPL\")\n",
        "\n",
        "#ensure not null/they exist\n",
        "assert mask_rps.any() and mask_rpl.any(), \"No RPS/RPL genes detected in gene_symbols.\"\n",
        "\n",
        "# make a single target per cluster from per-gene TE (Y)\n",
        "def cluster_signal(Y_block, method=\"mean\", n_components=1, random_state=1337):\n",
        "    \"\"\"\n",
        "    Y_block: samples × k_genes slice from Y\n",
        "    method : 'mean' or 'pca'\n",
        "    returns: vector length = samples\n",
        "    \"\"\"\n",
        "    #simple avg across all genes in cluster\n",
        "    if method == \"mean\":\n",
        "        return np.nanmean(Y_block, axis=1)\n",
        "    #shows variation pattern\n",
        "    elif method == \"pca\":\n",
        "        # Center per gene; take PC1 score\n",
        "        Yc = Y_block - np.nanmean(Y_block, axis=0, keepdims=True)\n",
        "        pcs = min(n_components, min(*Yc.shape))\n",
        "        s = PCA(n_components=pcs, random_state=random_state).fit_transform(Yc)[:, 0]\n",
        "        return s\n",
        "    else:\n",
        "        raise ValueError(\"method must be 'mean' or 'pca'.\")\n",
        "\n",
        "# Build cluster targets, 1 target vector per cluster (mean for baseline)\n",
        "TE_RPS = cluster_signal(Y[:, mask_rps.values], method=\"mean\")\n",
        "TE_RPL = cluster_signal(Y[:, mask_rpl.values], method=\"mean\")\n",
        "\n",
        "print(\"Cluster targets shapes:\", TE_RPS.shape, TE_RPL.shape)\n"
      ],
      "metadata": {
        "colab": {
          "base_uri": "https://localhost:8080/"
        },
        "id": "WOe5shh7PSwY",
        "outputId": "9678ee08-327d-42e2-97f9-60ac38ef0261"
      },
      "id": "WOe5shh7PSwY",
      "execution_count": null,
      "outputs": [
        {
          "output_type": "stream",
          "name": "stdout",
          "text": [
            "Cluster targets shapes: (98,) (98,)\n"
          ]
        }
      ]
    },
    {
      "cell_type": "code",
      "source": [
        "from sklearn.linear_model import LassoCV\n",
        "from sklearn.preprocessing import StandardScaler\n",
        "from sklearn.model_selection import KFold\n",
        "from sklearn.metrics import mean_absolute_error, mean_squared_error\n",
        "\n",
        "def cv_predict_vector(X, y, alphas=None, n_splits=5, random_state=1337):\n",
        "    \"\"\"\n",
        "    Cross-validated predictions for a single target vector y using LassoCV.\n",
        "    \"\"\"\n",
        "    kf = KFold(n_splits=n_splits, shuffle=True, random_state=random_state)\n",
        "    yhat = np.zeros_like(y, dtype=float) #predictions aligned to each y, each point redicted out of fold\n",
        "    chosen_alphas, nnz_coefs = [], [] #number of nonzero coefficients, for sparsity and alpha chosen by lasso cv in outer folds\n",
        "\n",
        "    for tr_idx, te_idx in kf.split(X):\n",
        "        Xtr, Xte = X[tr_idx], X[te_idx]\n",
        "        ytr = y[tr_idx]\n",
        "\n",
        "        # Scale features inside each fold\n",
        "        scaler = StandardScaler().fit(Xtr)\n",
        "        Xtr_s = scaler.transform(Xtr)\n",
        "        Xte_s = scaler.transform(Xte)\n",
        "\n",
        "        # LassoCV over a reasonable grid if no alpha (log values)\n",
        "        if alphas is None:\n",
        "            alphas = np.logspace(-3, 1, 20)  #ex: 0.001 becomes 10\n",
        "            # internal cv (train split)\n",
        "        lcv = LassoCV(alphas=alphas, cv=5, random_state=random_state, n_jobs=-1, max_iter=10000)\n",
        "        lcv.fit(Xtr_s, ytr)\n",
        "\n",
        "        #predict test split\n",
        "        yhat[te_idx] = lcv.predict(Xte_s)\n",
        "        chosen_alphas.append(lcv.alpha_)\n",
        "        nnz_coefs.append(int(np.sum(np.abs(lcv.coef_) > 1e-8)))\n",
        "\n",
        "    return yhat, np.array(chosen_alphas), np.array(nnz_coefs)\n",
        "\n",
        "# Run for both clusters\n",
        "Yhat_RPS, alphas_rps, nnz_rps = cv_predict_vector(X, TE_RPS)\n",
        "Yhat_RPL, alphas_rpl, nnz_rpl = cv_predict_vector(X, TE_RPL)\n",
        "\n",
        "def summarize_cluster(y_true, y_pred, name):\n",
        "    r = np.corrcoef(y_true, y_pred)[0,1] if (np.std(y_true)>0 and np.std(y_pred)>0) else np.nan\n",
        "    mae  = mean_absolute_error(y_true, y_pred)\n",
        "    rmse = mean_squared_error(y_true, y_pred)\n",
        "    print(f\"{name}: r={r:.3f}, MAE={mae:.3f}, RMSE={rmse:.3f}\")\n",
        "\n",
        "summarize_cluster(TE_RPS, Yhat_RPS, \"RPS cluster\")\n",
        "summarize_cluster(TE_RPL, Yhat_RPL, \"RPL cluster\")\n",
        "\n",
        "print(\"Median alpha (RPS, RPL):\", np.median(alphas_rps), np.median(alphas_rpl))\n",
        "print(\"Median non-zero features (RPS, RPL):\", int(np.median(nnz_rps)), int(np.median(nnz_rpl)))"
      ],
      "metadata": {
        "colab": {
          "base_uri": "https://localhost:8080/"
        },
        "id": "0QkHbVggPX3F",
        "outputId": "ea25b969-feac-4183-afe4-e178e994f924"
      },
      "id": "0QkHbVggPX3F",
      "execution_count": null,
      "outputs": [
        {
          "output_type": "stream",
          "name": "stdout",
          "text": [
            "RPS cluster: r=0.938, MAE=0.182, RMSE=0.096\n",
            "RPL cluster: r=0.950, MAE=0.212, RMSE=0.111\n",
            "Median alpha (RPS, RPL): 0.011288378916846888 0.018329807108324356\n",
            "Median non-zero features (RPS, RPL): 41 45\n"
          ]
        }
      ]
    },
    {
      "cell_type": "code",
      "source": [
        "#Lasso model on full data using median alpha across cv folds\n",
        "def fit_full_lasso(X, y, alpha):\n",
        "    scaler = StandardScaler().fit(X)\n",
        "    Xs = scaler.transform(X)\n",
        "    model = LassoCV(alphas=[alpha], cv=5, random_state=RANDOM_SEED, max_iter=10000).fit(Xs, y)\n",
        "    return model, scaler\n",
        "\n",
        "alpha_rps = float(np.median(alphas_rps))\n",
        "alpha_rpl = float(np.median(alphas_rpl))\n",
        "\n",
        "lasso_rps, scaler_rps = fit_full_lasso(X, TE_RPS, alpha_rps)\n",
        "lasso_rpl, scaler_rpl = fit_full_lasso(X, TE_RPL, alpha_rpl)\n",
        "\n",
        "# Top features by absolute val weight\n",
        "def top_features(model, k=20):\n",
        "    w = model.coef_\n",
        "    idx = np.argsort(-np.abs(w))[:k]\n",
        "    return pd.DataFrame({\n",
        "        \"gene_id\": [genes[i] for i in idx],\n",
        "        \"gene_symbol\": [gene_symbols[i] for i in idx],\n",
        "        \"weight\": w[idx]\n",
        "    })\n",
        "\n",
        "print(\"\\nTop RNA features for RPS cluster:\\n\", top_features(lasso_rps).to_string(index=False))\n",
        "print(\"\\nTop RNA features for RPL cluster:\\n\", top_features(lasso_rpl).to_string(index=False))\n",
        "\n"
      ],
      "metadata": {
        "colab": {
          "base_uri": "https://localhost:8080/"
        },
        "id": "DzfFsvxSPcL7",
        "outputId": "0bdd1e07-c96d-4544-aacd-33fe4446beea"
      },
      "id": "DzfFsvxSPcL7",
      "execution_count": null,
      "outputs": [
        {
          "output_type": "stream",
          "name": "stdout",
          "text": [
            "\n",
            "Top RNA features for RPS cluster:\n",
            " gene_id gene_symbol    weight\n",
            "  RPL10       RPL10 -0.264835\n",
            " EEF1A1      EEF1A1 -0.198144\n",
            "ATP5MC2     ATP5MC2 -0.086245\n",
            "  ZNF41       ZNF41  0.050961\n",
            " RPL27A      RPL27A -0.049612\n",
            "  PMPCB       PMPCB -0.046176\n",
            "  SHLD2       SHLD2  0.043527\n",
            "  RAB2B       RAB2B  0.034850\n",
            "  COQ8A       COQ8A -0.034244\n",
            "    KHK         KHK  0.030256\n",
            " CAMKMT      CAMKMT  0.027970\n",
            "  MBTD1       MBTD1  0.026960\n",
            "   KDSR        KDSR  0.025211\n",
            "SLC10A7     SLC10A7  0.023569\n",
            "TMEM101     TMEM101 -0.022951\n",
            "  RAB8A       RAB8A  0.021609\n",
            "  FANCI       FANCI -0.019094\n",
            "  VPS18       VPS18  0.018570\n",
            "  PPTC7       PPTC7  0.018034\n",
            "   ASB8        ASB8  0.017605\n",
            "\n",
            "Top RNA features for RPL cluster:\n",
            " gene_id gene_symbol    weight\n",
            " RPL13A      RPL13A -0.381985\n",
            " RPL27A      RPL27A -0.141922\n",
            "ATP5MC2     ATP5MC2 -0.106664\n",
            "  ARL4D       ARL4D  0.071559\n",
            "  PMPCB       PMPCB -0.051066\n",
            "  MBTD1       MBTD1  0.049421\n",
            "  SHLD2       SHLD2  0.035416\n",
            "  NDEL1       NDEL1  0.035248\n",
            "   NCK2        NCK2  0.034416\n",
            "   RPL4        RPL4 -0.033478\n",
            "  DDX51       DDX51  0.031247\n",
            "  RAB2B       RAB2B  0.030893\n",
            "    KHK         KHK  0.030305\n",
            "  HIBCH       HIBCH  0.029627\n",
            "  COQ8A       COQ8A -0.026927\n",
            "  THAP1       THAP1  0.024998\n",
            "  VEGFA       VEGFA  0.022991\n",
            " YTHDF1      YTHDF1  0.022021\n",
            "  TRIM3       TRIM3  0.021341\n",
            "SLC10A7     SLC10A7  0.020169\n"
          ]
        }
      ]
    },
    {
      "cell_type": "code",
      "source": [],
      "metadata": {
        "id": "vTRXFb4jQzdD"
      },
      "id": "vTRXFb4jQzdD",
      "execution_count": null,
      "outputs": []
    },
    {
      "cell_type": "markdown",
      "source": [
        "#Interestingly, several RPL genes appear with negative weights in the RPS model and vice versa, suggesting anti-correlation in translational responses"
      ],
      "metadata": {
        "id": "me2rqGRgXHVU"
      },
      "id": "me2rqGRgXHVU"
    },
    {
      "cell_type": "code",
      "source": [
        "def plot_lasso_weights(df, title, top_k=15):\n",
        "    \"\"\"\n",
        "    Create a horizontal barplot of the top_k most important RNA features.\n",
        "    Red = positive weight (higher RNA, higher cluster TE)\n",
        "    Blue = negative weight (higher RNA, lower cluster TE)\n",
        "    \"\"\"\n",
        "    # Sort by absolute weight, take top_k\n",
        "    df_sorted = df.reindex(df[\"weight\"].abs().sort_values(ascending=False).index)[:top_k]\n",
        "\n",
        "    plt.figure(figsize=(8, 5))\n",
        "    colors = df_sorted[\"weight\"].apply(lambda x: \"tomato\" if x > 0 else \"royalblue\")\n",
        "\n",
        "    plt.barh(df_sorted[\"gene_symbol\"], df_sorted[\"weight\"], color=colors)\n",
        "    plt.gca().invert_yaxis()  # most important feature on top\n",
        "\n",
        "    plt.title(title, fontsize=14, weight=\"bold\")\n",
        "    plt.xlabel(\"Lasso Weight (Feature Importance)\")\n",
        "    plt.ylabel(\"Gene Symbol\")\n",
        "    plt.grid(alpha=0.3, linestyle=\"--\", axis=\"x\")\n",
        "    plt.tight_layout()\n",
        "    plt.show()\n",
        "\n",
        "top_rps_df = top_features(lasso_rps, k=20)\n",
        "top_rpl_df = top_features(lasso_rpl, k=20)\n",
        "\n",
        "plot_lasso_weights(top_rps_df, \"Top RNA Predictors for RPS Cluster\", top_k=15)\n",
        "plot_lasso_weights(top_rpl_df, \"Top RNA Predictors for RPL Cluster\", top_k=15)"
      ],
      "metadata": {
        "colab": {
          "base_uri": "https://localhost:8080/",
          "height": 997
        },
        "id": "mHaXI4BngoVQ",
        "outputId": "4d0a7b23-40ac-4aa7-b5bc-c8bce56182b5"
      },
      "id": "mHaXI4BngoVQ",
      "execution_count": null,
      "outputs": [
        {
          "output_type": "display_data",
          "data": {
            "text/plain": [
              "<Figure size 800x500 with 1 Axes>"
            ],
            "image/png": "[encoded data removed]"
          },
          "metadata": {}
        },
        {
          "output_type": "display_data",
          "data": {
            "text/plain": [
              "<Figure size 800x500 with 1 Axes>"
            ],
            "image/png": "[encoded data removed]"
          },
          "metadata": {}
        }
      ]
    },
    {
      "cell_type": "code",
      "source": [
        "import numpy as np, pandas as pd\n",
        "from sklearn.linear_model import Lasso\n",
        "from joblib import Parallel, delayed\n",
        "\n",
        "# Prepare standardized TE\n",
        "# Read the TE data again to ensure a clean start for this cell\n",
        "te = drop_index_like(pd.read_csv(f\"{DATA_DIR}/TE_HEK293T.csv\"))\n",
        "\n",
        "# Select only the sample columns and convert to numeric, coercing errors\n",
        "sample_cols = [c for c in te.columns if c != \"feature_id\"]\n",
        "Y = te[sample_cols].apply(pd.to_numeric, errors=\"coerce\").values\n",
        "\n",
        "# Add print statements to check for NaNs\n",
        "print(f\"Number of NaNs in Y before imputation: {np.isnan(Y).sum()}\")\n",
        "\n",
        "# Identify and remove columns with all NaNs\n",
        "all_nan_cols_mask = np.all(np.isnan(Y), axis=0)\n",
        "Y = Y[:, ~all_nan_cols_mask]\n",
        "# Update gene names accordingly\n",
        "gene_names = [gene_names[i] for i, is_all_nan in enumerate(all_nan_cols_mask) if not is_all_nan]\n",
        "\n",
        "print(f\"Number of columns removed due to all NaNs: {np.sum(all_nan_cols_mask)}\")\n",
        "print(f\"Shape of Y after removing all NaN columns: {Y.shape}\")\n",
        "\n",
        "\n",
        "# Impute remaining NaNs with the mean of each column\n",
        "Y = np.nan_to_num(Y, nan=np.nanmean(Y, axis=0))\n",
        "\n",
        "# Check for NaNs after imputation\n",
        "print(f\"Number of NaNs in Y after imputation: {np.isnan(Y).sum()}\")\n",
        "\n",
        "\n",
        "# Standardize the data\n",
        "Y = (Y - Y.mean(0, keepdims=True)) / (Y.std(0, ddof=1, keepdims=True) + 1e-8)\n",
        "\n",
        "G = Y.shape[1]\n",
        "alpha = 0.01  # tune a bit\n",
        "\n",
        "def fit_neighborhood(j):\n",
        "    X = np.delete(Y, j, axis=1)\n",
        "    y = Y[:, j]\n",
        "    # Ensure y does not contain NaNs before fitting\n",
        "    if np.isnan(y).any():\n",
        "        # This case should ideally not be reached after imputation, but as a safeguard:\n",
        "        raise ValueError(f\"NaN values found in target variable y for gene index {j}\")\n",
        "\n",
        "    m = Lasso(alpha=alpha, max_iter=5000).fit(X, y)\n",
        "    coef = m.coef_\n",
        "    # Insert zero back at position j\n",
        "    full = np.insert(coef, j, 0.0)\n",
        "    return full\n",
        "\n",
        "# Use the columns of the TE data as gene names for the output\n",
        "\n",
        "W = Parallel(n_jobs=-1, verbose=0)(delayed(fit_neighborhood)(j) for j in range(G))\n",
        "W = np.vstack(W)                       # W[j, i] = weight of gene i predicting gene j\n",
        "A = ((np.abs(W) + np.abs(W.T)) > 1e-6).astype(float)  # symmetrize (OR rule)\n",
        "np.fill_diagonal(A, 0.0)\n",
        "\n",
        "pd.DataFrame(A, index=gene_names, columns=gene_names).to_csv(\"adjacency_neighborhood.csv\")\n",
        "print(\"Neighborhood graph saved. Edges:\", int(A.sum()))"
      ],
      "metadata": {
        "colab": {
          "base_uri": "https://localhost:8080/"
        },
        "id": "QgfvtvTUkfCJ",
        "outputId": "45888b3a-ce2f-446c-abea-e01e22269b93"
      },
      "id": "QgfvtvTUkfCJ",
      "execution_count": null,
      "outputs": [
        {
          "output_type": "stream",
          "name": "stdout",
          "text": [
            "Number of NaNs in Y before imputation: 8433\n",
            "Number of columns removed due to all NaNs: 1\n",
            "Shape of Y after removing all NaN columns: (8433, 98)\n",
            "Number of NaNs in Y after imputation: 0\n",
            "Neighborhood graph saved. Edges: 2658\n"
          ]
        }
      ]
    }
  ],
  "metadata": {
    "colab": {
      "provenance": []
    },
    "kernelspec": {
      "display_name": "Python 3",
      "name": "python3"
    },
    "language_info": {
      "name": "python"
    }
  },
  "nbformat": 4,
  "nbformat_minor": 5
}